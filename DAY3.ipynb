{
  "nbformat": 4,
  "nbformat_minor": 0,
  "metadata": {
    "colab": {
      "provenance": []
    },
    "kernelspec": {
      "name": "python3",
      "display_name": "Python 3"
    },
    "language_info": {
      "name": "python"
    }
  },
  "cells": [
    {
      "cell_type": "code",
      "execution_count": 6,
      "metadata": {
        "colab": {
          "base_uri": "https://localhost:8080/"
        },
        "id": "H6VFJ9nnf6sw",
        "outputId": "22ea402f-e5c3-4c59-be1b-b3cd70dfbe28"
      },
      "outputs": [
        {
          "output_type": "stream",
          "name": "stdout",
          "text": [
            "['1' '2' '4' '5' '6.6' 'vaishu']\n",
            "[1, 2, 4.4]\n",
            "[1.  2.  4.4]\n"
          ]
        }
      ],
      "source": [
        "import numpy as np\n",
        "list1=[1,2,4,5,6.6,\"vaishu\"]\n",
        "list2=[1,2,4.4]\n",
        "list1=np.array(list1)\n",
        "list3=np.array(list2)\n",
        "print(list1)#typecasted to string when we converted list to array using numpy.This happend because array accepts only homogenous data.\n",
        "print(list2)#just printed with out numpy\n",
        "print(list3)#typecasted to float"
      ]
    },
    {
      "cell_type": "code",
      "source": [
        "type(list3)\n"
      ],
      "metadata": {
        "colab": {
          "base_uri": "https://localhost:8080/"
        },
        "id": "45uWdWhAhi7i",
        "outputId": "e2e625c9-abf6-4617-dd63-faf7bd1a46f4"
      },
      "execution_count": 9,
      "outputs": [
        {
          "output_type": "execute_result",
          "data": {
            "text/plain": [
              "numpy.ndarray"
            ]
          },
          "metadata": {},
          "execution_count": 9
        }
      ]
    },
    {
      "cell_type": "code",
      "source": [
        "import numpy as np\n",
        "list1=[1,2,4,5,6.6,\"vaishu\"]\n",
        "list2=[1,2,4.4]\n",
        "list11=np.array(list1)\n",
        "list3=np.array(list2)\n",
        "list11\n"
      ],
      "metadata": {
        "colab": {
          "base_uri": "https://localhost:8080/"
        },
        "id": "GTj5OsE9hrqX",
        "outputId": "ad1617f2-d650-4301-cfbc-c2e0aeec590b"
      },
      "execution_count": 14,
      "outputs": [
        {
          "output_type": "execute_result",
          "data": {
            "text/plain": [
              "array(['1', '2', '4', '5', '6.6', 'vaishu'], dtype='<U32')"
            ]
          },
          "metadata": {},
          "execution_count": 14
        }
      ]
    },
    {
      "cell_type": "code",
      "source": [
        "print(list11)"
      ],
      "metadata": {
        "colab": {
          "base_uri": "https://localhost:8080/"
        },
        "id": "FJG46CX6ixAj",
        "outputId": "cdb5b2ad-91a0-4adb-fb8d-8cde750bb8df"
      },
      "execution_count": 15,
      "outputs": [
        {
          "output_type": "stream",
          "name": "stdout",
          "text": [
            "['1' '2' '4' '5' '6.6' 'vaishu']\n"
          ]
        }
      ]
    },
    {
      "cell_type": "code",
      "source": [
        "list11.shape"
      ],
      "metadata": {
        "colab": {
          "base_uri": "https://localhost:8080/"
        },
        "id": "gDoG0iNvjAhg",
        "outputId": "7772e621-a960-4be9-8bca-41baa8620542"
      },
      "execution_count": 17,
      "outputs": [
        {
          "output_type": "execute_result",
          "data": {
            "text/plain": [
              "(6,)"
            ]
          },
          "metadata": {},
          "execution_count": 17
        }
      ]
    },
    {
      "cell_type": "code",
      "source": [
        "list1=[1,2,3]\n",
        "list2=[4,5,6]\n",
        "list3=[7,8,9]\n",
        "arr=np.array([list1,list2,list3])\n",
        "arr"
      ],
      "metadata": {
        "colab": {
          "base_uri": "https://localhost:8080/"
        },
        "id": "9jvO8OlcjjtY",
        "outputId": "75e4cb36-26c6-4758-da12-197884ca0782"
      },
      "execution_count": 18,
      "outputs": [
        {
          "output_type": "execute_result",
          "data": {
            "text/plain": [
              "array([[1, 2, 3],\n",
              "       [4, 5, 6],\n",
              "       [7, 8, 9]])"
            ]
          },
          "metadata": {},
          "execution_count": 18
        }
      ]
    },
    {
      "cell_type": "code",
      "source": [
        "arr.shape"
      ],
      "metadata": {
        "colab": {
          "base_uri": "https://localhost:8080/"
        },
        "id": "j0b_R9VPjrra",
        "outputId": "34243e09-6e7d-4fc8-9167-6e1d1785e596"
      },
      "execution_count": 20,
      "outputs": [
        {
          "output_type": "execute_result",
          "data": {
            "text/plain": [
              "(3, 3)"
            ]
          },
          "metadata": {},
          "execution_count": 20
        }
      ]
    },
    {
      "cell_type": "code",
      "source": [
        "arr[0:2] # so here 0:2 indicates row filtering so it will fetch first two rows 0 and 1"
      ],
      "metadata": {
        "colab": {
          "base_uri": "https://localhost:8080/"
        },
        "id": "1C4paaRRobzw",
        "outputId": "4d30a88d-737d-4661-e3e1-f23b9ef8d30d"
      },
      "execution_count": 29,
      "outputs": [
        {
          "output_type": "execute_result",
          "data": {
            "text/plain": [
              "array([[1, 2, 3],\n",
              "       [4, 5, 6]])"
            ]
          },
          "metadata": {},
          "execution_count": 29
        }
      ]
    },
    {
      "cell_type": "code",
      "source": [
        "arr[:2]"
      ],
      "metadata": {
        "colab": {
          "base_uri": "https://localhost:8080/"
        },
        "id": "3fVVa8I9pfOQ",
        "outputId": "f799df99-b5d5-4bcf-b962-81a346e7917d"
      },
      "execution_count": 30,
      "outputs": [
        {
          "output_type": "execute_result",
          "data": {
            "text/plain": [
              "array([[1, 2, 3],\n",
              "       [4, 5, 6]])"
            ]
          },
          "metadata": {},
          "execution_count": 30
        }
      ]
    },
    {
      "cell_type": "code",
      "source": [
        "arr[0:2,0:3] # here 0:2 indicates first two rows and 0:3 indicates first 3 coloumns 0,1,2"
      ],
      "metadata": {
        "colab": {
          "base_uri": "https://localhost:8080/"
        },
        "id": "NI1vf9jLphPh",
        "outputId": "bcb44a76-e6de-42b8-cb18-1dcba17602f1"
      },
      "execution_count": 33,
      "outputs": [
        {
          "output_type": "execute_result",
          "data": {
            "text/plain": [
              "array([[1, 2, 3],\n",
              "       [4, 5, 6]])"
            ]
          },
          "metadata": {},
          "execution_count": 33
        }
      ]
    },
    {
      "cell_type": "code",
      "source": [
        "arr.reshape(1,9) #here if you observe its 1 row with 9 coloumns .this will be helpful when we want to feed our model with 9 features for one house."
      ],
      "metadata": {
        "colab": {
          "base_uri": "https://localhost:8080/"
        },
        "id": "Q4I5qIaQj0YE",
        "outputId": "8c510883-89fe-444a-c18a-fe6a17ab62f8"
      },
      "execution_count": 26,
      "outputs": [
        {
          "output_type": "execute_result",
          "data": {
            "text/plain": [
              "array([[1, 2, 3, 4, 5, 6, 7, 8, 9]])"
            ]
          },
          "metadata": {},
          "execution_count": 26
        }
      ]
    },
    {
      "cell_type": "code",
      "source": [
        "a1=np.arange(0,10,step=2)\n",
        "print(a1)"
      ],
      "metadata": {
        "colab": {
          "base_uri": "https://localhost:8080/"
        },
        "id": "FBH7MO8PqJ8a",
        "outputId": "de7c528c-201b-4156-9541-6d98d79bf1bb"
      },
      "execution_count": 35,
      "outputs": [
        {
          "output_type": "stream",
          "name": "stdout",
          "text": [
            "[0 2 4 6 8]\n"
          ]
        }
      ]
    },
    {
      "cell_type": "code",
      "source": [
        "np.linspace(1,10,5)"
      ],
      "metadata": {
        "colab": {
          "base_uri": "https://localhost:8080/"
        },
        "id": "Zm_TSWxCqkso",
        "outputId": "33273e69-2f2e-4036-abeb-cae5d45df79e"
      },
      "execution_count": 36,
      "outputs": [
        {
          "output_type": "execute_result",
          "data": {
            "text/plain": [
              "array([ 1.  ,  3.25,  5.5 ,  7.75, 10.  ])"
            ]
          },
          "metadata": {},
          "execution_count": 36
        }
      ]
    },
    {
      "cell_type": "code",
      "source": [
        "#copy function and broadcasting\n",
        "a1[2:]=100\n",
        "a1"
      ],
      "metadata": {
        "colab": {
          "base_uri": "https://localhost:8080/"
        },
        "id": "H2O85mEbrd0J",
        "outputId": "d85df764-6d49-4f54-eb96-b0ff9176521b"
      },
      "execution_count": 53,
      "outputs": [
        {
          "output_type": "execute_result",
          "data": {
            "text/plain": [
              "array([  0, 100, 100, 100, 100])"
            ]
          },
          "metadata": {},
          "execution_count": 53
        }
      ]
    },
    {
      "cell_type": "code",
      "source": [
        "a=a1\n",
        "a[2:]=500\n",
        "a"
      ],
      "metadata": {
        "colab": {
          "base_uri": "https://localhost:8080/"
        },
        "id": "fQS1NnaGrtJW",
        "outputId": "9c22e74b-e3f5-4435-dee1-8bbb418a1841"
      },
      "execution_count": 54,
      "outputs": [
        {
          "output_type": "execute_result",
          "data": {
            "text/plain": [
              "array([  0, 100, 500, 500, 500])"
            ]
          },
          "metadata": {},
          "execution_count": 54
        }
      ]
    },
    {
      "cell_type": "code",
      "source": [
        "a1[3:]=200\n",
        "a1"
      ],
      "metadata": {
        "colab": {
          "base_uri": "https://localhost:8080/"
        },
        "id": "N2Dqj-Ahrxom",
        "outputId": "722a8d9b-5b64-4aba-940a-642dbf35f31c"
      },
      "execution_count": 55,
      "outputs": [
        {
          "output_type": "execute_result",
          "data": {
            "text/plain": [
              "array([  0, 100, 500, 200, 200])"
            ]
          },
          "metadata": {},
          "execution_count": 55
        }
      ]
    },
    {
      "cell_type": "code",
      "source": [
        "a1=a.copy()\n",
        "a1\n",
        "a1[1:]=10\n",
        "print(a1)\n",
        "print(a)\n"
      ],
      "metadata": {
        "colab": {
          "base_uri": "https://localhost:8080/"
        },
        "id": "JjAPun_esJV0",
        "outputId": "1f912a01-1763-4a36-ba48-ab56eb79dd43"
      },
      "execution_count": 57,
      "outputs": [
        {
          "output_type": "stream",
          "name": "stdout",
          "text": [
            "[ 0 10 10 10 10]\n",
            "[  0 100 500 200 200]\n"
          ]
        }
      ]
    }
  ]
}