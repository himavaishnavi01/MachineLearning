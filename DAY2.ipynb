{
  "nbformat": 4,
  "nbformat_minor": 0,
  "metadata": {
    "colab": {
      "provenance": []
    },
    "kernelspec": {
      "name": "python3",
      "display_name": "Python 3"
    },
    "language_info": {
      "name": "python"
    }
  },
  "cells": [
    {
      "cell_type": "code",
      "execution_count": 2,
      "metadata": {
        "colab": {
          "base_uri": "https://localhost:8080/"
        },
        "id": "UP1Nn5Vdfu_F",
        "outputId": "ba39a6e2-8269-4e33-8d75-d3e07f5ee51a"
      },
      "outputs": [
        {
          "output_type": "execute_result",
          "data": {
            "text/plain": [
              "array('i', [1, 2, 3, 4, 5])"
            ]
          },
          "metadata": {},
          "execution_count": 2
        }
      ],
      "source": [
        "import array\n",
        "\n",
        "# Creating an array of integers\n",
        "arr = array.array('i', [1, 2, 3, 4, 5])\n",
        "arr"
      ]
    },
    {
      "cell_type": "code",
      "source": [
        "# Creating an array of float\n",
        "arr1 = array.array('f', [1.1, 2.2, 3.3, 4.4])\n",
        "arr1"
      ],
      "metadata": {
        "colab": {
          "base_uri": "https://localhost:8080/"
        },
        "id": "wxYl17Jsf6nF",
        "outputId": "6df20200-10d0-4ea9-9a99-4fd3d95e8e02"
      },
      "execution_count": 3,
      "outputs": [
        {
          "output_type": "execute_result",
          "data": {
            "text/plain": [
              "array('f', [1.100000023841858, 2.200000047683716, 3.299999952316284, 4.400000095367432])"
            ]
          },
          "metadata": {},
          "execution_count": 3
        }
      ]
    },
    {
      "cell_type": "code",
      "source": [
        "my_list = arr.tolist()\n",
        "my_list"
      ],
      "metadata": {
        "colab": {
          "base_uri": "https://localhost:8080/"
        },
        "id": "2TrQ7KUof-YQ",
        "outputId": "3b86c07e-c775-40e0-83e8-a6738afb216f"
      },
      "execution_count": 4,
      "outputs": [
        {
          "output_type": "execute_result",
          "data": {
            "text/plain": [
              "[1, 2, 3, 4, 5]"
            ]
          },
          "metadata": {},
          "execution_count": 4
        }
      ]
    },
    {
      "cell_type": "code",
      "source": [
        "import numpy as np\n",
        "arr1 = np.array([1, 2, 3])\n",
        "result = arr1 * 2  # Multiplies each element by 2\n",
        "print(result)"
      ],
      "metadata": {
        "colab": {
          "base_uri": "https://localhost:8080/"
        },
        "id": "h39ZEwxkgCZ2",
        "outputId": "34fa5b54-76dc-408e-e41c-59841e5268b2"
      },
      "execution_count": 5,
      "outputs": [
        {
          "output_type": "stream",
          "name": "stdout",
          "text": [
            "[2 4 6]\n"
          ]
        }
      ]
    },
    {
      "cell_type": "code",
      "source": [
        "arr2 = np.array([[1, 2], [3, 4], [5, 6]])\n",
        "print(arr2)"
      ],
      "metadata": {
        "colab": {
          "base_uri": "https://localhost:8080/"
        },
        "id": "d3drb9s5gFS9",
        "outputId": "89df2596-57cf-437a-a10c-df1f9e8dc4e4"
      },
      "execution_count": 6,
      "outputs": [
        {
          "output_type": "stream",
          "name": "stdout",
          "text": [
            "[[1 2]\n",
            " [3 4]\n",
            " [5 6]]\n"
          ]
        }
      ]
    },
    {
      "cell_type": "code",
      "source": [
        "mean = np.mean(arr1)  # Calculates mean of the array\n",
        "print(mean)"
      ],
      "metadata": {
        "colab": {
          "base_uri": "https://localhost:8080/"
        },
        "id": "T0L7tAD6gIhj",
        "outputId": "504ad8b5-83ce-4722-b427-56eac1a7a3ee"
      },
      "execution_count": 7,
      "outputs": [
        {
          "output_type": "stream",
          "name": "stdout",
          "text": [
            "2.0\n"
          ]
        }
      ]
    },
    {
      "cell_type": "code",
      "source": [
        "arr3 = np.array([1, 2, 3])\n",
        "arr4 = np.array([10])\n",
        "print(arr3+arr4)"
      ],
      "metadata": {
        "colab": {
          "base_uri": "https://localhost:8080/"
        },
        "id": "Oo9Ty_3PgL3w",
        "outputId": "28474a22-cf5b-4c2b-c115-fbaa86bbca74"
      },
      "execution_count": 8,
      "outputs": [
        {
          "output_type": "stream",
          "name": "stdout",
          "text": [
            "[11 12 13]\n"
          ]
        }
      ]
    },
    {
      "cell_type": "code",
      "source": [
        "for i in range(len(arr)):\n",
        "    arr[i] *= 2\n",
        "print(arr)"
      ],
      "metadata": {
        "colab": {
          "base_uri": "https://localhost:8080/"
        },
        "id": "5orDvycSgOcs",
        "outputId": "6bd66d0b-fff1-48ad-e7cf-8a11c0946f63"
      },
      "execution_count": 9,
      "outputs": [
        {
          "output_type": "stream",
          "name": "stdout",
          "text": [
            "array('i', [2, 4, 6, 8, 10])\n"
          ]
        }
      ]
    },
    {
      "cell_type": "code",
      "source": [
        "features = [5.1, 3.5, 1.4, 0.2]\n",
        "predictions = [0, 1, 1, 0, 1]\n",
        "result = [x * 2 for x in features]\n",
        "result1 = array.array('i', [x * 2 for x in arr])\n",
        "result2 = arr3 * 2\n",
        "print(result)\n",
        "print(result1)\n",
        "print(result2)\n",
        "#List is heterogenous whereas array is homogenous,numpy is also homogenous but its easy to process when compared to array."
      ],
      "metadata": {
        "colab": {
          "base_uri": "https://localhost:8080/"
        },
        "id": "pwO5pAhwgSGn",
        "outputId": "36604e0f-da89-41a7-bcc7-c2888e407687"
      },
      "execution_count": 10,
      "outputs": [
        {
          "output_type": "stream",
          "name": "stdout",
          "text": [
            "[10.2, 7.0, 2.8, 0.4]\n",
            "array('i', [4, 8, 12, 16, 20])\n",
            "[2 4 6]\n"
          ]
        }
      ]
    },
    {
      "cell_type": "code",
      "source": [
        "#numpy operations\n",
        "reshaped = arr2.reshape(2, 3) # converting data between different dimensions\n",
        "reshaped"
      ],
      "metadata": {
        "colab": {
          "base_uri": "https://localhost:8080/"
        },
        "id": "ekZndXQ1gVb1",
        "outputId": "eb764e27-b920-4cce-81bc-73c2e550e21d"
      },
      "execution_count": 11,
      "outputs": [
        {
          "output_type": "execute_result",
          "data": {
            "text/plain": [
              "array([[1, 2, 3],\n",
              "       [4, 5, 6]])"
            ]
          },
          "metadata": {},
          "execution_count": 11
        }
      ]
    },
    {
      "cell_type": "code",
      "source": [
        "random_array = np.random.rand(3, 2)\n",
        "random_array"
      ],
      "metadata": {
        "colab": {
          "base_uri": "https://localhost:8080/"
        },
        "id": "8NbDvl61gZQb",
        "outputId": "4411c42f-6a27-4b72-8389-5d1e3e163143"
      },
      "execution_count": 12,
      "outputs": [
        {
          "output_type": "execute_result",
          "data": {
            "text/plain": [
              "array([[0.25846645, 0.66530818],\n",
              "       [0.22655911, 0.04813667],\n",
              "       [0.87706647, 0.14936684]])"
            ]
          },
          "metadata": {},
          "execution_count": 12
        }
      ]
    },
    {
      "cell_type": "code",
      "source": [
        "resized = np.resize(arr2, (3, 3))\n",
        "resized"
      ],
      "metadata": {
        "colab": {
          "base_uri": "https://localhost:8080/"
        },
        "id": "WGxjMwGVgcGV",
        "outputId": "49159534-9ef0-4e98-9783-5717e05320ee"
      },
      "execution_count": 13,
      "outputs": [
        {
          "output_type": "execute_result",
          "data": {
            "text/plain": [
              "array([[1, 2, 3],\n",
              "       [4, 5, 6],\n",
              "       [1, 2, 3]])"
            ]
          },
          "metadata": {},
          "execution_count": 13
        }
      ]
    }
  ]
}